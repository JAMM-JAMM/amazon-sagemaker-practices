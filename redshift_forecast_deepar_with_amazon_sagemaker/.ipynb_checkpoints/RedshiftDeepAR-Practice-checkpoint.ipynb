{
 "cells": [
  {
   "cell_type": "markdown",
   "id": "047ab331",
   "metadata": {},
   "source": [
    "### Environments"
   ]
  },
  {
   "cell_type": "code",
   "execution_count": 1,
   "id": "854c6ece",
   "metadata": {},
   "outputs": [],
   "source": [
    "# pip install psycopg2-binary"
   ]
  },
  {
   "cell_type": "code",
   "execution_count": 2,
   "id": "04acea9d",
   "metadata": {},
   "outputs": [],
   "source": [
    "from __future__ import print_function\n",
    "import sys\n",
    "import psycopg2\n",
    "import base64\n",
    "import json\n",
    "from random import shuffle\n",
    "import random\n",
    "import datetime\n",
    "import os\n",
    "\n",
    "import boto3\n",
    "from botocore.exceptions import ClientError\n",
    "import sagemaker\n",
    "import s3fs\n",
    "import pandas as pd\n",
    "import numpy as np\n",
    "import matplotlib.pyplot as plt\n",
    "\n",
    "from ipywidgets import interact, interactive, fixed, interact_manual\n",
    "import ipywidgets as widgets\n",
    "from ipywidgets import IntSlider, FloatSlider, Checkbox"
   ]
  },
  {
   "cell_type": "code",
   "execution_count": 3,
   "id": "9ddf17b6",
   "metadata": {},
   "outputs": [],
   "source": [
    "# set random seeds for reproducibility\n",
    "np.random.seed(42)\n",
    "random.seed(42)"
   ]
  },
  {
   "cell_type": "code",
   "execution_count": 4,
   "id": "13f2cf24",
   "metadata": {},
   "outputs": [],
   "source": [
    "sagemaker_session = sagemaker.Session()"
   ]
  },
  {
   "cell_type": "code",
   "execution_count": 5,
   "id": "7262d61d",
   "metadata": {},
   "outputs": [
    {
     "name": "stdout",
     "output_type": "stream",
     "text": [
      "s3 bucket:  sagemaker-ap-northeast-2-988889742134\n"
     ]
    }
   ],
   "source": [
    "s3_bucket = sagemaker_session.default_bucket()\n",
    "print(\"s3 bucket: \", s3_bucket)"
   ]
  },
  {
   "cell_type": "code",
   "execution_count": 6,
   "id": "d61635bf",
   "metadata": {},
   "outputs": [
    {
     "name": "stdout",
     "output_type": "stream",
     "text": [
      "s3 prefix:  sagemaker/redshift-deepar-nyctaxi-demo-notebook\n"
     ]
    }
   ],
   "source": [
    "s3_prefix = 'sagemaker/redshift-deepar-nyctaxi-demo-notebook'\n",
    "print(\"s3 prefix: \", s3_prefix)"
   ]
  },
  {
   "cell_type": "code",
   "execution_count": 8,
   "id": "50a3beb0",
   "metadata": {},
   "outputs": [
    {
     "name": "stdout",
     "output_type": "stream",
     "text": [
      "region name:  ap-northeast-2\n"
     ]
    }
   ],
   "source": [
    "region = sagemaker_session.boto_region_name\n",
    "print(\"region name: \", region)"
   ]
  },
  {
   "cell_type": "code",
   "execution_count": 9,
   "id": "cd52c016",
   "metadata": {},
   "outputs": [
    {
     "name": "stdout",
     "output_type": "stream",
     "text": [
      "s3 input data path:  s3://sagemaker-ap-northeast-2-988889742134/sagemaker/redshift-deepar-nyctaxi-demo-notebook/data\n",
      "s3 output data path:  s3://sagemaker-ap-northeast-2-988889742134/sagemaker/redshift-deepar-nyctaxi-demo-notebook/output\n"
     ]
    }
   ],
   "source": [
    "s3_data_path = \"s3://{}/{}/data\".format(s3_bucket, s3_prefix)\n",
    "s3_output_path = \"s3://{}/{}/output\".format(s3_bucket, s3_prefix)\n",
    "print(\"s3 input data path: \", s3_data_path)\n",
    "print(\"s3 output data path: \", s3_output_path)"
   ]
  },
  {
   "cell_type": "markdown",
   "id": "2e9d1218",
   "metadata": {},
   "source": [
    "### Docker ECR Image URI - forcasting-deepar"
   ]
  },
  {
   "cell_type": "code",
   "execution_count": 11,
   "id": "08b11368",
   "metadata": {},
   "outputs": [
    {
     "name": "stderr",
     "output_type": "stream",
     "text": [
      "The method get_image_uri has been renamed in sagemaker>=2.\n",
      "See: https://sagemaker.readthedocs.io/en/stable/v2.html for details.\n",
      "Defaulting to the only supported framework/algorithm version: 1. Ignoring framework/algorithm version: latest.\n"
     ]
    }
   ],
   "source": [
    "image_name = sagemaker.amazon.amazon_estimator.get_image_uri(region, \"forecasting-deepar\", \"latest\")"
   ]
  },
  {
   "cell_type": "markdown",
   "id": "6192190a",
   "metadata": {},
   "source": [
    "### Redshift - Secretsmanager info"
   ]
  },
  {
   "cell_type": "code",
   "execution_count": 47,
   "id": "54e6f099",
   "metadata": {},
   "outputs": [],
   "source": [
    "def connection_info(secret_name):\n",
    "    \n",
    "    session = boto3.session.Session()\n",
    "    secret_manager_client = session.client(\n",
    "        service_name='secretsmanager',\n",
    "        region_name=region\n",
    "    )\n",
    "    \n",
    "    try:\n",
    "        get_secret_value_response = secret_manager_client.get_secret_value(\n",
    "            SecretId=secret_name\n",
    "        )\n",
    "    except ClientError as e:\n",
    "        if e.response['Error']['Code'] == 'DecryptionFailureException':\n",
    "            # Secrets Manager can't decrypt the protected secret text using the provided KMS key.\n",
    "            raise e\n",
    "        elif e.response['Error']['Code'] == 'InternalServiceErrorException':\n",
    "            # An error occurred on the server side.\n",
    "            raise e\n",
    "        elif e.response['Error']['Code'] == 'InvalidParameterException':\n",
    "            # You provided an invalid value for a parameter.\n",
    "            raise e\n",
    "        elif e.response['Error']['Code'] == 'InvalidRequestException':\n",
    "            # You provided a parameter value that is not valid for the current state of the resource.\n",
    "            raise e\n",
    "        elif e.response['Error']['Code'] == 'ResourceNotFoundException':\n",
    "            # We can't find the resource that you asked for.\n",
    "            raise e\n",
    "    else:\n",
    "        # Decrypts secret using the associated KMS key.\n",
    "        # Depending on whether the secret is a string or binary, one of these fields will be populated.\n",
    "        if 'SecretString' in get_secret_value_response:\n",
    "            secret = json.loads(get_secret_value_response['SecretString'])\n",
    "        else:\n",
    "            secret = json.loads(base64.b64decode(get_secret_value_response['SecretBinary']))\n",
    "    \n",
    "    return secret"
   ]
  },
  {
   "cell_type": "code",
   "execution_count": 43,
   "id": "1007abda",
   "metadata": {},
   "outputs": [
    {
     "name": "stdout",
     "output_type": "stream",
     "text": [
      "Connection info:  {'password': ':F3(ibLq9o[.:3CL', 'username': 'master', 'host': 'redshiftcluster-e6qymib7pem4.ctcezicvfjwc.ap-northeast-2.redshift.amazonaws.com', 'port': '8192', 'engine': 'redshift', 'dbClusterIdentifier': 'redshiftcluster-e6qymib7pem4'}\n"
     ]
    }
   ],
   "source": [
    "con_params = connection_info(secret_name)\n",
    "\n",
    "print(\"Connection info: \", con_params)"
   ]
  },
  {
   "cell_type": "markdown",
   "id": "a762b5b7",
   "metadata": {},
   "source": [
    "### Redshift cluster connection"
   ]
  },
  {
   "cell_type": "code",
   "execution_count": 55,
   "id": "d6333dca",
   "metadata": {},
   "outputs": [],
   "source": [
    "def get_connection(db_name, secret_name):\n",
    "    \n",
    "    con_params = connection_info(secret_name)\n",
    "#     print(\"Connection parameters: \", con_params)\n",
    "    print(\"Connection info retrieved from Secrets manager\")\n",
    "    \n",
    "    rsf_conn = psycopg2.connect(\n",
    "                dbname=db_name,\n",
    "                host=con_params['host'],\n",
    "                port=con_params['port'],\n",
    "                user=con_params['username'],\n",
    "                password=con_params['password']\n",
    "            )\n",
    "    \n",
    "    return rsf_conn"
   ]
  },
  {
   "cell_type": "code",
   "execution_count": 56,
   "id": "60baf798",
   "metadata": {},
   "outputs": [
    {
     "name": "stdout",
     "output_type": "stream",
     "text": [
      "Connection info retrieved from Secrets manager\n"
     ]
    }
   ],
   "source": [
    "db_name = 'nyctaxi'\n",
    "secret_name = 'arn:aws:secretsmanager:ap-northeast-2:988889742134:secret:nyctaxisecret-7MXnAI'\n",
    "\n",
    "conn = get_connection(db_name, secret_name)"
   ]
  },
  {
   "cell_type": "markdown",
   "id": "27011266",
   "metadata": {},
   "source": [
    "### Redshift Query Execution"
   ]
  },
  {
   "cell_type": "code",
   "execution_count": 57,
   "id": "92bcd5d2",
   "metadata": {},
   "outputs": [],
   "source": [
    "def get_redshift_query_execution(db_name, secret_name, sql):\n",
    "    \n",
    "    conn = get_connection(db_name=db_name, secret_name=secret_name)\n",
    "    cur = None\n",
    "    \n",
    "    try:\n",
    "        cur = conn.cursor()\n",
    "        res = cur.execute(sql)\n",
    "    except Exception as e:\n",
    "        conn.rollback()\n",
    "        raise e\n",
    "    finally:\n",
    "        if cur:\n",
    "            cur.close()\n",
    "        if conn:\n",
    "            conn.close()\n",
    "    \n",
    "    return res"
   ]
  },
  {
   "cell_type": "code",
   "execution_count": 58,
   "id": "d59f2602",
   "metadata": {},
   "outputs": [
    {
     "name": "stdout",
     "output_type": "stream",
     "text": [
      "Connection info retrieved from Secrets manager\n",
      "Result:  None\n"
     ]
    }
   ],
   "source": [
    "secret_name = 'arn:aws:secretsmanager:ap-northeast-2:988889742134:secret:nyctaxisecret-7MXnAI'\n",
    "timeout_statement = \"set statement_timeout = 1200000\"\n",
    "db_name = 'nyctaxi'\n",
    "\n",
    "result = get_redshift_query_execution(db_name=db_name, secret_name=secret_name, sql=timeout_statement)\n",
    "print(\"Result: \", result)"
   ]
  },
  {
   "cell_type": "markdown",
   "id": "f481fa83",
   "metadata": {},
   "source": [
    "### Run sql start"
   ]
  },
  {
   "cell_type": "code",
   "execution_count": 63,
   "id": "0245f51c",
   "metadata": {},
   "outputs": [],
   "source": [
    "redshift_unload_path = s3_output_path + '/unload/'\n",
    "redshift_iam_role = \"arn:aws:iam::988889742134:role/Redshift-Analytics-Lab-RedshiftRole-1FKF6QKB14C58\""
   ]
  },
  {
   "cell_type": "code",
   "execution_count": 64,
   "id": "d50bd23a",
   "metadata": {},
   "outputs": [],
   "source": [
    "results = []\n",
    "query_str = \"unload('select coalesce(v1.pickup_timestamp_norm, v2.pickup_timestamp_norm) as pickup_timestamp_norm \\\n",
    ", coalesce(v1.vendor_1, 0) as vendor_1 \\\n",
    ", coalesce(v2.vendor_2, 0) as vendor_2 \\\n",
    "from \\\n",
    "(select case when extract(minute from lpep_dropoff_datetime) between 0 and 14 then dateadd(minute, 0, date_trunc(''hour'', lpep_dropoff_datetime)) \\\n",
    "when extract(minute from lpep_dropoff_datetime) between 15 and 29 then dateadd(minute, 15, date_trunc(''hour'', lpep_dropoff_datetime)) \\\n",
    "when extract(minute from lpep_dropoff_datetime) between 30 and 44 then dateadd(minute, 30, date_trunc(''hour'', lpep_dropoff_datetime)) \\\n",
    "when extract(minute from lpep_dropoff_datetime) between 45 and 59 then dateadd(minute, 45, date_trunc(''hour'', lpep_dropoff_datetime)) end as pickup_timestamp_norm \\\n",
    ", count(1) as vendor_1 \\\n",
    "from taxischema.nyc_greentaxi \\\n",
    "where vendorid = 1 group by 1) v1 \\\n",
    "full outer join \\\n",
    "(select case when extract(minute from lpep_dropoff_datetime) between 0 and 14 then dateadd(minute, 0, date_trunc(''hour'', lpep_dropoff_datetime)) \\\n",
    "when extract(minute from lpep_dropoff_datetime) between 15 and 29 then dateadd(minute, 15, date_trunc(''hour'', lpep_dropoff_datetime)) \\\n",
    "when extract(minute from lpep_dropoff_datetime) between 30 and 44 then dateadd(minute, 30, date_trunc(''hour'', lpep_dropoff_datetime)) \\\n",
    "when extract(minute from lpep_dropoff_datetime) between 45 and 59 then dateadd(minute, 45, date_trunc(''hour'', lpep_dropoff_datetime)) end as pickup_timestamp_norm \\\n",
    ", count(1)  as vendor_2 \\\n",
    "from taxischema.nyc_greentaxi \\\n",
    "where vendorid = 2 group by 1) v2 on v1.pickup_timestamp_norm = v2.pickup_timestamp_norm order by pickup_timestamp_norm ;') to '\" \\\n",
    "+ redshift_unload_path + \"' iam_role '\" + redshift_iam_role + \"' format as CSV header ALLOWOVERWRITE GZIP\""
   ]
  },
  {
   "cell_type": "code",
   "execution_count": 65,
   "id": "450bd221",
   "metadata": {},
   "outputs": [
    {
     "name": "stdout",
     "output_type": "stream",
     "text": [
      "Query string: \n",
      " unload('select coalesce(v1.pickup_timestamp_norm, v2.pickup_timestamp_norm) as pickup_timestamp_norm , coalesce(v1.vendor_1, 0) as vendor_1 , coalesce(v2.vendor_2, 0) as vendor_2 from (select case when extract(minute from lpep_dropoff_datetime) between 0 and 14 then dateadd(minute, 0, date_trunc(''hour'', lpep_dropoff_datetime)) when extract(minute from lpep_dropoff_datetime) between 15 and 29 then dateadd(minute, 15, date_trunc(''hour'', lpep_dropoff_datetime)) when extract(minute from lpep_dropoff_datetime) between 30 and 44 then dateadd(minute, 30, date_trunc(''hour'', lpep_dropoff_datetime)) when extract(minute from lpep_dropoff_datetime) between 45 and 59 then dateadd(minute, 45, date_trunc(''hour'', lpep_dropoff_datetime)) end as pickup_timestamp_norm , count(1) as vendor_1 from taxischema.nyc_greentaxi where vendorid = 1 group by 1) v1 full outer join (select case when extract(minute from lpep_dropoff_datetime) between 0 and 14 then dateadd(minute, 0, date_trunc(''hour'', lpep_dropoff_datetime)) when extract(minute from lpep_dropoff_datetime) between 15 and 29 then dateadd(minute, 15, date_trunc(''hour'', lpep_dropoff_datetime)) when extract(minute from lpep_dropoff_datetime) between 30 and 44 then dateadd(minute, 30, date_trunc(''hour'', lpep_dropoff_datetime)) when extract(minute from lpep_dropoff_datetime) between 45 and 59 then dateadd(minute, 45, date_trunc(''hour'', lpep_dropoff_datetime)) end as pickup_timestamp_norm , count(1)  as vendor_2 from taxischema.nyc_greentaxi where vendorid = 2 group by 1) v2 on v1.pickup_timestamp_norm = v2.pickup_timestamp_norm order by pickup_timestamp_norm ;') to 's3://sagemaker-ap-northeast-2-988889742134/sagemaker/redshift-deepar-nyctaxi-demo-notebook/output/unload/' iam_role 'arn:aws:iam::988889742134:role/Redshift-Analytics-Lab-RedshiftRole-1FKF6QKB14C58' format as CSV header ALLOWOVERWRITE GZIP\n"
     ]
    }
   ],
   "source": [
    "print(\"Query string: \\n\", query_str)"
   ]
  },
  {
   "cell_type": "code",
   "execution_count": 66,
   "id": "df3ac2be",
   "metadata": {},
   "outputs": [
    {
     "name": "stdout",
     "output_type": "stream",
     "text": [
      "Connection info retrieved from Secrets manager\n"
     ]
    }
   ],
   "source": [
    "query_result = get_redshift_query_execution(db_name=db_name, secret_name=secret_name, sql=query_str)"
   ]
  },
  {
   "cell_type": "code",
   "execution_count": 67,
   "id": "d78b9854",
   "metadata": {},
   "outputs": [
    {
     "name": "stdout",
     "output_type": "stream",
     "text": [
      "Query Result:  None\n"
     ]
    }
   ],
   "source": [
    "print(\"Query Result: \", query_result)"
   ]
  },
  {
   "cell_type": "markdown",
   "id": "1d5f34bd",
   "metadata": {},
   "source": [
    "### Load dataframe from s3 .gzip files"
   ]
  },
  {
   "cell_type": "code",
   "execution_count": 131,
   "id": "3d213216",
   "metadata": {},
   "outputs": [],
   "source": [
    "s3_client = boto3.client('s3')\n",
    "\n",
    "def load_df_from_s3(s3_path):\n",
    "    \n",
    "    assert s3_path.startswith('s3://')\n",
    "    \n",
    "    s3_path_split_list = s3_path.split('/')\n",
    "    print(\"s3 path split list: \", s3_path_split_list)\n",
    "    \n",
    "    bucket_nm = s3_path_split_list[2]\n",
    "    print(\"s3 path bucket name: \", bucket_nm)\n",
    "    \n",
    "    bucket_prefix = '/'.join(s3_path_split_list[3:])\n",
    "    print(\"s3 path prefix name: \", bucket_prefix)\n",
    "    \n",
    "    datafiles = s3_client.list_objects_v2(\n",
    "        Bucket=bucket_nm,\n",
    "        Prefix=bucket_prefix\n",
    "    )['Contents']\n",
    "    \n",
    "    prefix_df = []\n",
    "    \n",
    "    s3_fs = s3fs.S3FileSystem()\n",
    "    \n",
    "    for file in datafiles[0:]:\n",
    "        file_path = file['Key']\n",
    "        \n",
    "        with s3_fs.open('s3://' + bucket_nm + '/' + file_path) as f:\n",
    "            df = pd.read_csv(\n",
    "                f,\n",
    "                compression='gzip',\n",
    "                index_col=0,\n",
    "                parse_dates=True,\n",
    "                decimal=',',\n",
    "                sep=','\n",
    "            )\n",
    "            \n",
    "            prefix_df.append(df)\n",
    "            print(f\"File retrieved {file_path}\")\n",
    "            \n",
    "    return pd.concat(prefix_df)"
   ]
  },
  {
   "cell_type": "code",
   "execution_count": 132,
   "id": "512486f4",
   "metadata": {},
   "outputs": [
    {
     "name": "stdout",
     "output_type": "stream",
     "text": [
      "s3 path split list:  ['s3:', '', 'sagemaker-ap-northeast-2-988889742134', 'sagemaker', 'redshift-deepar-nyctaxi-demo-notebook', 'output', 'unload', '']\n",
      "s3 path bucket name:  sagemaker-ap-northeast-2-988889742134\n",
      "s3 path prefix name:  sagemaker/redshift-deepar-nyctaxi-demo-notebook/output/unload/\n",
      "File retrieved sagemaker/redshift-deepar-nyctaxi-demo-notebook/output/unload/0000_part_00.gz\n",
      "File retrieved sagemaker/redshift-deepar-nyctaxi-demo-notebook/output/unload/0001_part_00.gz\n",
      "File retrieved sagemaker/redshift-deepar-nyctaxi-demo-notebook/output/unload/0002_part_00.gz\n",
      "File retrieved sagemaker/redshift-deepar-nyctaxi-demo-notebook/output/unload/0003_part_00.gz\n"
     ]
    }
   ],
   "source": [
    "pd_df = load_df_from_s3(redshift_unload_path)"
   ]
  },
  {
   "cell_type": "markdown",
   "id": "6293f5b8",
   "metadata": {},
   "source": [
    "### Visualization dataframe"
   ]
  },
  {
   "cell_type": "code",
   "execution_count": 133,
   "id": "6d29721e",
   "metadata": {},
   "outputs": [
    {
     "data": {
      "text/plain": [
       "(17506, 2)"
      ]
     },
     "execution_count": 133,
     "metadata": {},
     "output_type": "execute_result"
    }
   ],
   "source": [
    "pd_df.shape"
   ]
  },
  {
   "cell_type": "code",
   "execution_count": 134,
   "id": "d4cff86a",
   "metadata": {},
   "outputs": [
    {
     "data": {
      "text/html": [
       "<div>\n",
       "<style scoped>\n",
       "    .dataframe tbody tr th:only-of-type {\n",
       "        vertical-align: middle;\n",
       "    }\n",
       "\n",
       "    .dataframe tbody tr th {\n",
       "        vertical-align: top;\n",
       "    }\n",
       "\n",
       "    .dataframe thead th {\n",
       "        text-align: right;\n",
       "    }\n",
       "</style>\n",
       "<table border=\"1\" class=\"dataframe\">\n",
       "  <thead>\n",
       "    <tr style=\"text-align: right;\">\n",
       "      <th></th>\n",
       "      <th>vendor_1</th>\n",
       "      <th>vendor_2</th>\n",
       "    </tr>\n",
       "    <tr>\n",
       "      <th>pickup_timestamp_norm</th>\n",
       "      <th></th>\n",
       "      <th></th>\n",
       "    </tr>\n",
       "  </thead>\n",
       "  <tbody>\n",
       "    <tr>\n",
       "      <th>2009-01-01 00:00:00</th>\n",
       "      <td>0</td>\n",
       "      <td>1</td>\n",
       "    </tr>\n",
       "    <tr>\n",
       "      <th>2009-01-01 00:30:00</th>\n",
       "      <td>0</td>\n",
       "      <td>6</td>\n",
       "    </tr>\n",
       "    <tr>\n",
       "      <th>2009-01-01 00:45:00</th>\n",
       "      <td>0</td>\n",
       "      <td>6</td>\n",
       "    </tr>\n",
       "    <tr>\n",
       "      <th>2009-01-01 01:00:00</th>\n",
       "      <td>0</td>\n",
       "      <td>4</td>\n",
       "    </tr>\n",
       "    <tr>\n",
       "      <th>2009-01-01 02:15:00</th>\n",
       "      <td>0</td>\n",
       "      <td>2</td>\n",
       "    </tr>\n",
       "  </tbody>\n",
       "</table>\n",
       "</div>"
      ],
      "text/plain": [
       "                       vendor_1  vendor_2\n",
       "pickup_timestamp_norm                    \n",
       "2009-01-01 00:00:00           0         1\n",
       "2009-01-01 00:30:00           0         6\n",
       "2009-01-01 00:45:00           0         6\n",
       "2009-01-01 01:00:00           0         4\n",
       "2009-01-01 02:15:00           0         2"
      ]
     },
     "execution_count": 134,
     "metadata": {},
     "output_type": "execute_result"
    }
   ],
   "source": [
    "pd_df.head(5)"
   ]
  },
  {
   "cell_type": "code",
   "execution_count": 135,
   "id": "591adbba",
   "metadata": {},
   "outputs": [
    {
     "name": "stdout",
     "output_type": "stream",
     "text": [
      "Num timeseries:  2\n"
     ]
    }
   ],
   "source": [
    "num_timeseries = pd_df.shape[1]\n",
    "print('Num timeseries: ', num_timeseries)"
   ]
  },
  {
   "cell_type": "code",
   "execution_count": 136,
   "id": "4452fa13",
   "metadata": {},
   "outputs": [],
   "source": [
    "data_trip = pd_df.resample('2H').sum() / 8"
   ]
  },
  {
   "cell_type": "code",
   "execution_count": 137,
   "id": "9a2f3edb",
   "metadata": {},
   "outputs": [],
   "source": [
    "timeseries = []\n",
    "\n",
    "for i in range(num_timeseries):\n",
    "    timeseries.append(\n",
    "        np.trim_zeros(\n",
    "            data_trip.iloc[:,i],\n",
    "            trim='f'\n",
    "        )\n",
    "    )"
   ]
  },
  {
   "cell_type": "code",
   "execution_count": 140,
   "id": "2b5c80f4",
   "metadata": {},
   "outputs": [
    {
     "data": {
      "text/plain": [
       "pickup_timestamp_norm\n",
       "2018-09-13 12:00:00    0.125\n",
       "2018-09-13 14:00:00    0.000\n",
       "2018-09-13 16:00:00    0.000\n",
       "2018-09-13 18:00:00    0.000\n",
       "2018-09-13 20:00:00    0.000\n",
       "                       ...  \n",
       "2019-07-01 14:00:00    0.000\n",
       "2019-07-01 16:00:00    0.000\n",
       "2019-07-01 18:00:00    0.000\n",
       "2019-07-01 20:00:00    0.000\n",
       "2019-07-01 22:00:00    0.000\n",
       "Freq: 2H, Name: vendor_1, Length: 3498, dtype: float64"
      ]
     },
     "execution_count": 140,
     "metadata": {},
     "output_type": "execute_result"
    }
   ],
   "source": [
    "timeseries[0]"
   ]
  },
  {
   "cell_type": "code",
   "execution_count": 141,
   "id": "f3ec3bfe",
   "metadata": {},
   "outputs": [
    {
     "data": {
      "text/plain": [
       "pickup_timestamp_norm\n",
       "2008-12-31 22:00:00    0.750\n",
       "2009-01-01 00:00:00    4.125\n",
       "2009-01-01 02:00:00    0.625\n",
       "2009-01-01 04:00:00    0.125\n",
       "2009-01-01 06:00:00    0.000\n",
       "                       ...  \n",
       "2019-07-01 14:00:00    1.000\n",
       "2019-07-01 16:00:00    1.125\n",
       "2019-07-01 18:00:00    1.000\n",
       "2019-07-01 20:00:00    1.000\n",
       "2019-07-01 22:00:00    0.500\n",
       "Freq: 2H, Name: vendor_2, Length: 46009, dtype: float64"
      ]
     },
     "execution_count": 141,
     "metadata": {},
     "output_type": "execute_result"
    }
   ],
   "source": [
    "timeseries[1]"
   ]
  },
  {
   "cell_type": "code",
   "execution_count": 142,
   "id": "88eda53a",
   "metadata": {},
   "outputs": [
    {
     "data": {
      "image/png": "[encoded data removed]",
      "text/plain": [
       "<Figure size 1440x144 with 2 Axes>"
      ]
     },
     "metadata": {
      "needs_background": "light"
     },
     "output_type": "display_data"
    }
   ],
   "source": [
    "fig, axs = plt.subplots(1, 2, figsize=(20, 2), sharex=True)\n",
    "axx = axs.ravel()\n",
    "for i in range(0, 2):\n",
    "    timeseries[i].loc[\"2018-10-01\":\"2019-12-31\"].plot(ax=axx[i])\n",
    "    axx[i].set_xlabel(\"date\")\n",
    "    axx[i].set_ylabel(\"Ride count\")\n",
    "    axx[i].grid(which='minor', axis='x')"
   ]
  },
  {
   "cell_type": "code",
   "execution_count": 144,
   "id": "4442a9f6",
   "metadata": {},
   "outputs": [
    {
     "data": {
      "image/png": "[encoded data removed]",
      "text/plain": [
       "<Figure size 1440x144 with 2 Axes>"
      ]
     },
     "metadata": {
      "needs_background": "light"
     },
     "output_type": "display_data"
    }
   ],
   "source": [
    "fig, axs = plt.subplots(1, 2, figsize=(20, 2), sharex=True)\n",
    "axx = axs.ravel()\n",
    "for i in range(0, 2):\n",
    "    timeseries[i].loc[\"2019-01-01\":\"2019-08-01\"].plot(ax=axx[i])\n",
    "    axx[i].set_xlabel(\"date\")\n",
    "    axx[i].set_ylabel(\"Ride count\")\n",
    "    axx[i].grid(which='minor', axis='x')"
   ]
  },
  {
   "cell_type": "markdown",
   "id": "5edb3e56",
   "metadata": {},
   "source": [
    "### Train and Test splits\n",
    "\n",
    "Often times one is interested in evaluating the model or tuning its hyperparameters by looking at error metrics on a hold-out test set. Here we split the available data into train and test sets for evaluating the trained model. For standard machine learning tasks such as classification and regression, one typically obtains this split by randomly separating examples into train and test sets. However, in forecasting it is important to do this train/test split based on time rather than by time series.\n",
    "\n",
    "In this example, we will reserve the last section of each of the time series for evalutation purpose and use only the first part as training data. "
   ]
  },
  {
   "cell_type": "code",
   "execution_count": 145,
   "id": "48f88457",
   "metadata": {},
   "outputs": [],
   "source": [
    "# we use 2 hour frequency for the time series\n",
    "freq = '2H'\n",
    "\n",
    "# we predict for 7 days\n",
    "prediction_length = 7 * 12\n",
    "\n",
    "# we also use 7 days as context length, this is the number of state updates accomplished before making predictions\n",
    "context_length = 7 * 12"
   ]
  },
  {
   "cell_type": "code",
   "execution_count": 148,
   "id": "f126dfcc",
   "metadata": {},
   "outputs": [],
   "source": [
    "# we specify here the portion of the data that is used for training\n",
    "# the model sees data from '2019-01-01' to '2019-04-01' for training\n",
    "\n",
    "start_dataset = pd.Timestamp(\"2019-01-01 00:00:00\", freq=freq)\n",
    "\n",
    "end_training = pd.Timestamp(\"2019-04-01 00:00:00\", freq=freq)"
   ]
  },
  {
   "cell_type": "markdown",
   "id": "9d5e8644",
   "metadata": {},
   "source": [
    "The DeepAR JSON input format represents each time series as a JSON object. In the simplest case each time series just consists of a start time stamp (``start``) and a list of values (``target``). For more complex cases, DeepAR also supports the fields ``dynamic_feat`` for time-series features and ``cat`` for categorical features, which we will use  later."
   ]
  },
  {
   "cell_type": "code",
   "execution_count": 150,
   "id": "fc59c8f1",
   "metadata": {},
   "outputs": [
    {
     "name": "stdout",
     "output_type": "stream",
     "text": [
      "start:  2019-01-01 00:00:00\n"
     ]
    }
   ],
   "source": [
    "print(\"start: \", str(start_dataset))"
   ]
  },
  {
   "cell_type": "code",
   "execution_count": 152,
   "id": "481234a6",
   "metadata": {},
   "outputs": [
    {
     "name": "stdout",
     "output_type": "stream",
     "text": [
      "1080\n",
      "1080\n"
     ]
    }
   ],
   "source": [
    "for ts in timeseries:\n",
    "    target_list = ts[start_dataset:end_training][:-1].tolist()\n",
    "    print(len(target_list))"
   ]
  },
  {
   "cell_type": "code",
   "execution_count": 154,
   "id": "10448467",
   "metadata": {},
   "outputs": [],
   "source": [
    "training_data = [\n",
    "    {\n",
    "        \"start\": str(start_dataset),\n",
    "        \"target\": ts[start_dataset:end_training][:-1].tolist()\n",
    "    }\n",
    "    for ts in timeseries\n",
    "]"
   ]
  },
  {
   "cell_type": "markdown",
   "id": "2954810e",
   "metadata": {},
   "source": [
    "As test data, we will consider time series extending beyond the training range: these will be used for computing test scores, by using the trained model to forecast their trailing 7 days, and comparing predictions with actual values.\n",
    "To evaluate our model performance on more than one week, we generate test data that extends to 1, 2, 3, 4 weeks beyond the training range. This way we perform *rolling evaluation* of our model."
   ]
  },
  {
   "cell_type": "code",
   "execution_count": 163,
   "id": "cec988e2",
   "metadata": {},
   "outputs": [
    {
     "name": "stdout",
     "output_type": "stream",
     "text": [
      "91\n"
     ]
    }
   ],
   "source": [
    "num_test_windows = 4\n",
    "\n",
    "idx = []\n",
    "print(len(pd.date_range(start_dataset, end_training)))\n",
    "\n",
    "period_range = len(pd.date_range(start_dataset, end_training))\n",
    "\n",
    "for i in range(1, num_test_windows + 1):\n",
    "    idx.append(\n",
    "        pd.date_range(\n",
    "            start_dataset,\n",
    "            periods=period_range + (i * prediction_length),\n",
    "            freq=freq\n",
    "        )\n",
    "    )\n",
    "\n",
    "test_data = [\n",
    "    {\n",
    "        \"start\": str(start_dataset),\n",
    "        \"target\": ts[idx[k]].tolist()\n",
    "    }\n",
    "    for k in range(0, num_test_windows)\n",
    "    for ts in timeseries\n",
    "]"
   ]
  },
  {
   "cell_type": "code",
   "execution_count": 165,
   "id": "36d8b605",
   "metadata": {},
   "outputs": [],
   "source": [
    "def write_dicts_to_file(path, data):\n",
    "    with open(path, 'wb') as fp:\n",
    "        for d in data:\n",
    "            fp.write(json.dumps(d).encode(\"utf-8\"))\n",
    "            fp.write(\"\\n\".encode('utf-8'))"
   ]
  },
  {
   "cell_type": "code",
   "execution_count": 166,
   "id": "c7d72633",
   "metadata": {},
   "outputs": [
    {
     "name": "stdout",
     "output_type": "stream",
     "text": [
      "CPU times: user 3.34 ms, sys: 0 ns, total: 3.34 ms\n",
      "Wall time: 2.86 ms\n"
     ]
    }
   ],
   "source": [
    "%%time\n",
    "write_dicts_to_file(\"train.json\", training_data)\n",
    "write_dicts_to_file(\"test.json\", test_data)"
   ]
  },
  {
   "cell_type": "code",
   "execution_count": 174,
   "id": "065573ff",
   "metadata": {},
   "outputs": [
    {
     "ename": "FileNotFoundError",
     "evalue": "[Errno 2] No such file or directory: '.train.json'",
     "output_type": "error",
     "traceback": [
      "\u001b[0;31m---------------------------------------------------------------------------\u001b[0m",
      "\u001b[0;31mFileNotFoundError\u001b[0m                         Traceback (most recent call last)",
      "\u001b[0;32m<ipython-input-174-754d84ff07dd>\u001b[0m in \u001b[0;36m<module>\u001b[0;34m\u001b[0m\n\u001b[0;32m----> 1\u001b[0;31m \u001b[0;32mwith\u001b[0m \u001b[0mopen\u001b[0m\u001b[0;34m(\u001b[0m\u001b[0;34m\".train.json\"\u001b[0m\u001b[0;34m,\u001b[0m \u001b[0;34m'rb'\u001b[0m\u001b[0;34m)\u001b[0m \u001b[0;32mas\u001b[0m \u001b[0mf\u001b[0m\u001b[0;34m:\u001b[0m\u001b[0;34m\u001b[0m\u001b[0;34m\u001b[0m\u001b[0m\n\u001b[0m\u001b[1;32m      2\u001b[0m     \u001b[0mtrain_json\u001b[0m \u001b[0;34m=\u001b[0m \u001b[0mjson\u001b[0m\u001b[0;34m.\u001b[0m\u001b[0mload\u001b[0m\u001b[0;34m(\u001b[0m\u001b[0mf\u001b[0m\u001b[0;34m)\u001b[0m\u001b[0;34m\u001b[0m\u001b[0;34m\u001b[0m\u001b[0m\n\u001b[1;32m      3\u001b[0m \u001b[0;34m\u001b[0m\u001b[0m\n\u001b[1;32m      4\u001b[0m \u001b[0mprint\u001b[0m\u001b[0;34m(\u001b[0m\u001b[0mjson\u001b[0m\u001b[0;34m.\u001b[0m\u001b[0mdumps\u001b[0m\u001b[0;34m(\u001b[0m\u001b[0mtrain_json\u001b[0m\u001b[0;34m)\u001b[0m\u001b[0;34m)\u001b[0m\u001b[0;34m\u001b[0m\u001b[0;34m\u001b[0m\u001b[0m\n",
      "\u001b[0;31mFileNotFoundError\u001b[0m: [Errno 2] No such file or directory: '.train.json'"
     ]
    }
   ],
   "source": [
    "with open(\"train.json\", 'rb') as f:\n",
    "    train_json = json.load(f)\n",
    "\n",
    "print(json.dumps(train_json))"
   ]
  },
  {
   "cell_type": "code",
   "execution_count": 171,
   "id": "0bad76b5",
   "metadata": {},
   "outputs": [
    {
     "data": {
      "text/plain": [
       "''"
      ]
     },
     "execution_count": 171,
     "metadata": {},
     "output_type": "execute_result"
    }
   ],
   "source": [
    "train_json"
   ]
  },
  {
   "cell_type": "code",
   "execution_count": null,
   "id": "f5248971",
   "metadata": {},
   "outputs": [],
   "source": []
  }
 ],
 "metadata": {
  "kernelspec": {
   "display_name": "conda_python3",
   "language": "python",
   "name": "conda_python3"
  },
  "language_info": {
   "codemirror_mode": {
    "name": "ipython",
    "version": 3
   },
   "file_extension": ".py",
   "mimetype": "text/x-python",
   "name": "python",
   "nbconvert_exporter": "python",
   "pygments_lexer": "ipython3",
   "version": "3.6.13"
  }
 },
 "nbformat": 4,
 "nbformat_minor": 5
}
