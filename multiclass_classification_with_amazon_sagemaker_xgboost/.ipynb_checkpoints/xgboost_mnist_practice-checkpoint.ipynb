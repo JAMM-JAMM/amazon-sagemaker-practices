{
 "cells": [
  {
   "cell_type": "markdown",
   "metadata": {},
   "source": [
    "# Multiclass classification with Amazon SageMaker XGBoost algorithm\n",
    "\n",
    "---"
   ]
  },
  {
   "cell_type": "markdown",
   "metadata": {},
   "source": [
    "## Contents\n",
    "\n",
    "1. [Introduction](#Introduction)\n",
    "2. [Prerequisites and Preprocessing](#Prequisites-and-Preprocessing)\n",
    "  1. [Permissions and environment variables](#Permissions-and-environment-variables)\n",
    "  2. [Data ingestion](#Data-ingestion)\n",
    "  3. [Data conversion](#Data-conversion)\n",
    "3. [Training the XGBoost model](#Training-the-XGBoost-model)\n",
    "  1. [Training on a single instance](#Training-on-a-single-instance)\n",
    "  2. [Training on multiple instances](#Training-on-multiple-instances)\n",
    "4. [Set up hosting for the model](#Set-up-hosting-for-the-model)\n",
    "  1. [Import model into hosting](#Import-model-into-hosting)\n",
    "  2. [Create endpoint configuration](#Create-endpoint-configuration)\n",
    "  3. [Create endpoint](#Create-endpoint)\n",
    "5. [Validate the model for use](#Validate-the-model-for-use)\n",
    "\n",
    "---\n"
   ]
  },
  {
   "cell_type": "markdown",
   "metadata": {},
   "source": [
    "## Introduction\n",
    "\n",
    "\n",
    "This notebook demonstrates the use of Amazon SageMaker’s implementation of the XGBoost algorithm to train and host a multiclass classification model. The MNIST dataset is used for training. It has a training set of 60,000 examples and a test set of 10,000 examples. To illustrate the use of libsvm training data format, we download the dataset and convert it to the libsvm format before training.\n",
    "\n",
    "To get started, we need to set up the environment with a few prerequisites for permissions and configurations.\n",
    "\n",
    "---"
   ]
  },
  {
   "cell_type": "markdown",
   "metadata": {},
   "source": [
    "## Prequisites and Preprocessing\n",
    "This notebook was tested in Amazon SageMaker Studio on a ml.t3.medium instance with Python 3 (Data Science) kernel. \n",
    "\n",
    "### Permissions and environment variables\n",
    "\n",
    "Here we set up the linkage and authentication to AWS services.\n",
    "\n",
    "1. The roles used to give learning and hosting access to your data. See the documentation for how to specify these.\n",
    "2. The S3 buckets that you want to use for training and model data and where the downloaded data is located."
   ]
  },
  {
   "cell_type": "code",
   "execution_count": 2,
   "metadata": {},
   "outputs": [
    {
     "name": "stdout",
     "output_type": "stream",
     "text": [
      "Role:  arn:aws:iam::988889742134:role/service-role/AmazonSageMaker-ExecutionRole-20220315T092490\n",
      "Session:  <sagemaker.session.Session object at 0x7fe5c0eeac10>\n",
      "Region name:  ap-northeast-2\n",
      "Bucket name:  sagemaker-ap-northeast-2-988889742134\n",
      "Bucket prefix:  sagemaker/DEMO-xgboost-multiclass-classification\n",
      "Download mnist data bucket name:  sagemaker-xgboost-mnist-data-jamie\n",
      "Download mnist data prefix name:  datasets/image/MNIST\n",
      "CPU times: user 734 ms, sys: 155 ms, total: 888 ms\n",
      "Wall time: 1.07 s\n"
     ]
    }
   ],
   "source": [
    "%%time\n",
    "\n",
    "import os\n",
    "import boto3\n",
    "import re\n",
    "import copy\n",
    "import time\n",
    "from time import gmtime, strftime\n",
    "import sagemaker\n",
    "\n",
    "\n",
    "role = sagemaker.get_execution_role()\n",
    "print(\"Role: \", role)\n",
    "\n",
    "session = sagemaker.Session()\n",
    "print(\"Session: \", session)\n",
    "\n",
    "region_nm = boto3.Session().region_name\n",
    "print(\"Region name: \", region_nm)\n",
    "\n",
    "bucket_nm = session.default_bucket()\n",
    "print('Bucket name: ', bucket_nm)\n",
    "\n",
    "bucket_prefix = \"sagemaker/DEMO-xgboost-multiclass-classification\"\n",
    "print(\"Bucket prefix: \", bucket_prefix)\n",
    "\n",
    "bucket_path = f\"s3://{bucket_nm}\"\n",
    "\n",
    "downloaded_data_bucket = f\"sagemaker-xgboost-mnist-data-jamie\"\n",
    "print(\"Download mnist data bucket name: \", downloaded_data_bucket)\n",
    "\n",
    "downloaded_data_prefix = \"datasets/image/MNIST\"\n",
    "print(\"Download mnist data prefix name: \", downloaded_data_prefix)"
   ]
  },
  {
   "cell_type": "markdown",
   "metadata": {},
   "source": [
    "### Create Downloaded S3 bucket"
   ]
  },
  {
   "cell_type": "code",
   "execution_count": 3,
   "metadata": {},
   "outputs": [
    {
     "name": "stdout",
     "output_type": "stream",
     "text": [
      "\n",
      "An error occurred (BucketAlreadyOwnedByYou) when calling the CreateBucket operation: Your previous request to create the named bucket succeeded and you already own it.\n"
     ]
    }
   ],
   "source": [
    "!aws s3api create-bucket --bucket $downloaded_data_bucket --create-bucket-configuration LocationConstraint=$region_nm"
   ]
  },
  {
   "cell_type": "markdown",
   "metadata": {},
   "source": [
    "### Data ingestion\n",
    "\n",
    "Next, we read the MNIST dataset [1] from an existing repository into memory, for preprocessing prior to training. It was downloaded from this [link](http://deeplearning.net/data/mnist/mnist.pkl.gz) and stored in `downloaded_data_bucket`. Processing could be done *in situ* by Amazon Athena, Apache Spark in Amazon EMR, Amazon Redshift, etc., assuming the dataset is present in the appropriate location. Then, the next step would be to transfer the data to S3 for use in training. For small datasets, such as this one, reading into memory isn't onerous, though it would be for larger datasets.\n",
    "\n",
    "> [1] Y. LeCun, L. Bottou, Y. Bengio, and P. Haffner. Gradient-based learning applied to document recognition. Proceedings of the IEEE, 86(11):2278-2324, November 1998."
   ]
  },
  {
   "cell_type": "code",
   "execution_count": 4,
   "metadata": {},
   "outputs": [
    {
     "name": "stdout",
     "output_type": "stream",
     "text": [
      "Train Dataset Shape:  (50000, 784)\n",
      "Train Label Shape:  (50000,)\n",
      "Validation Dataset Shape:  (10000, 784)\n",
      "Validation Label Shape:  (10000,)\n",
      "Test Dataset Shape:  (10000, 784)\n",
      "Test Label Shape:  (10000,)\n",
      "CPU times: user 844 ms, sys: 390 ms, total: 1.23 s\n",
      "Wall time: 1.63 s\n"
     ]
    }
   ],
   "source": [
    "%%time\n",
    "\n",
    "import pickle, gzip, numpy, json\n",
    "\n",
    "\n",
    "# Load the dataset\n",
    "s3_client = boto3.client('s3')\n",
    "\n",
    "s3_client.download_file(\n",
    "    Bucket=downloaded_data_bucket, # The name of the bucket to download from\n",
    "    Key=f\"{downloaded_data_prefix}/mnist.pkl.gz\", # The name of the key to download from\n",
    "    Filename=\"mnist.pkl.gz\" # The path to the file to download to\n",
    ")\n",
    "\n",
    "with gzip.open(\"mnist.pkl.gz\", \"rb\") as f:\n",
    "    train_set, valid_set, test_set = pickle.load(f, encoding=\"latin1\")\n",
    "\n",
    "print(\"Train Dataset Shape: \", train_set[0].shape)\n",
    "print(\"Train Label Shape: \", train_set[1].shape)\n",
    "\n",
    "print(\"Validation Dataset Shape: \", valid_set[0].shape)\n",
    "print(\"Validation Label Shape: \", valid_set[1].shape)\n",
    "\n",
    "print(\"Test Dataset Shape: \", test_set[0].shape)\n",
    "print(\"Test Label Shape: \", test_set[1].shape)"
   ]
  },
  {
   "cell_type": "markdown",
   "metadata": {},
   "source": [
    "### Data conversion\n",
    "\n",
    "Since algorithms have particular input and output requirements, converting the dataset is also part of the process that a data scientist goes through prior to initiating training. In this particular case, the data is converted from pickle-ized numpy array to the libsvm format before being uploaded to S3. The hosted implementation of xgboost consumes the libsvm converted data from S3 for training. The following provides functions for data conversions and file upload to S3 and download from S3. "
   ]
  },
  {
   "cell_type": "code",
   "execution_count": 5,
   "metadata": {},
   "outputs": [],
   "source": [
    "# Get Dataset\n",
    "def get_dataset():\n",
    "    import pickle\n",
    "    import gzip\n",
    "    \n",
    "    \n",
    "    with gzip.open(\"mnist.pkl.gz\", \"rb\") as f:\n",
    "        u = pickle._Unpickler(f)\n",
    "        u.encoding = \"latin1\"\n",
    "        return u.load()"
   ]
  },
  {
   "cell_type": "code",
   "execution_count": 6,
   "metadata": {},
   "outputs": [],
   "source": [
    "# To libsvm\n",
    "def to_libsvm(f, labels, values):\n",
    "    f.write(\n",
    "        bytes(\n",
    "            \"\\n\".join(\n",
    "                [\n",
    "                    \"{} {}\".format(\n",
    "                        label,\n",
    "                        \" \".join(\n",
    "                            [\"{}:{}\".format(i + 1, el) for i, el in enumerate(vec)]\n",
    "                        )\n",
    "                    ) for label, vec in zip(labels, values)\n",
    "                ]\n",
    "            ),\n",
    "            \"utf-8\",\n",
    "        )\n",
    "    )\n",
    "    return f"
   ]
  },
  {
   "cell_type": "code",
   "execution_count": 7,
   "metadata": {},
   "outputs": [],
   "source": [
    "# Write to s3\n",
    "import boto3\n",
    "\n",
    "\n",
    "def write_to_s3(fobj, bucket, key):\n",
    "    return (\n",
    "        boto3.Session(region_name=region_nm)\n",
    "        .resource(\"s3\")\n",
    "        .Bucket(bucket)\n",
    "        .Object(key)\n",
    "        .upload_fileobj(fobj)\n",
    "    )"
   ]
  },
  {
   "cell_type": "code",
   "execution_count": 8,
   "metadata": {},
   "outputs": [],
   "source": [
    "import io\n",
    "import struct\n",
    "\n",
    "\n",
    "def upload_to_s3(partition_name, partition):\n",
    "    labels = [t.tolist() for t in partition[1]]\n",
    "    vectors = [t.tolist() for t in partition[0]]\n",
    "    num_partition = 5\n",
    "    partition_bound = int(len(labels) / num_partition)\n",
    "    \n",
    "    for i in range(num_partition):\n",
    "        f = io.BytesIO()\n",
    "        \n",
    "        to_libsvm(\n",
    "            f,\n",
    "            labels[i * partition_bound : (i + 1) * partition_bound],\n",
    "            vectors[i * partition_bound : (i + 1) * partition_bound]\n",
    "        )\n",
    "        \n",
    "        f.seek(0)\n",
    "        \n",
    "        key = f\"{bucket_prefix}/{partition_name}/examples{str(i)}\"\n",
    "        url = f\"s3://{bucket_nm}/{key}\"\n",
    "        print(f\"Writing to {url}\")\n",
    "        write_to_s3(f, bucket_nm, key)\n",
    "        print(f\"Done writing to {url}\")"
   ]
  },
  {
   "cell_type": "code",
   "execution_count": 9,
   "metadata": {},
   "outputs": [],
   "source": [
    "def convert_data():\n",
    "    train_set, valid_set, test_set = get_dataset()\n",
    "    partitions = [\n",
    "        (\"train\", train_set),\n",
    "        (\"validation\", valid_set),\n",
    "        (\"test\", test_set)\n",
    "    ]\n",
    "    for partition_name, partition in partitions:\n",
    "        print(f\"{partition_name}: {partition[0].shape} {partition[1].shape}\")\n",
    "        upload_to_s3(partition_name, partition)"
   ]
  },
  {
   "cell_type": "code",
   "execution_count": 10,
   "metadata": {},
   "outputs": [
    {
     "name": "stdout",
     "output_type": "stream",
     "text": [
      "train: (50000, 784) (50000,)\n",
      "Writing to s3://sagemaker-ap-northeast-2-988889742134/sagemaker/DEMO-xgboost-multiclass-classification/train/examples0\n",
      "Done writing to s3://sagemaker-ap-northeast-2-988889742134/sagemaker/DEMO-xgboost-multiclass-classification/train/examples0\n",
      "Writing to s3://sagemaker-ap-northeast-2-988889742134/sagemaker/DEMO-xgboost-multiclass-classification/train/examples1\n",
      "Done writing to s3://sagemaker-ap-northeast-2-988889742134/sagemaker/DEMO-xgboost-multiclass-classification/train/examples1\n",
      "Writing to s3://sagemaker-ap-northeast-2-988889742134/sagemaker/DEMO-xgboost-multiclass-classification/train/examples2\n",
      "Done writing to s3://sagemaker-ap-northeast-2-988889742134/sagemaker/DEMO-xgboost-multiclass-classification/train/examples2\n",
      "Writing to s3://sagemaker-ap-northeast-2-988889742134/sagemaker/DEMO-xgboost-multiclass-classification/train/examples3\n",
      "Done writing to s3://sagemaker-ap-northeast-2-988889742134/sagemaker/DEMO-xgboost-multiclass-classification/train/examples3\n",
      "Writing to s3://sagemaker-ap-northeast-2-988889742134/sagemaker/DEMO-xgboost-multiclass-classification/train/examples4\n",
      "Done writing to s3://sagemaker-ap-northeast-2-988889742134/sagemaker/DEMO-xgboost-multiclass-classification/train/examples4\n",
      "validation: (10000, 784) (10000,)\n",
      "Writing to s3://sagemaker-ap-northeast-2-988889742134/sagemaker/DEMO-xgboost-multiclass-classification/validation/examples0\n",
      "Done writing to s3://sagemaker-ap-northeast-2-988889742134/sagemaker/DEMO-xgboost-multiclass-classification/validation/examples0\n",
      "Writing to s3://sagemaker-ap-northeast-2-988889742134/sagemaker/DEMO-xgboost-multiclass-classification/validation/examples1\n",
      "Done writing to s3://sagemaker-ap-northeast-2-988889742134/sagemaker/DEMO-xgboost-multiclass-classification/validation/examples1\n",
      "Writing to s3://sagemaker-ap-northeast-2-988889742134/sagemaker/DEMO-xgboost-multiclass-classification/validation/examples2\n",
      "Done writing to s3://sagemaker-ap-northeast-2-988889742134/sagemaker/DEMO-xgboost-multiclass-classification/validation/examples2\n",
      "Writing to s3://sagemaker-ap-northeast-2-988889742134/sagemaker/DEMO-xgboost-multiclass-classification/validation/examples3\n",
      "Done writing to s3://sagemaker-ap-northeast-2-988889742134/sagemaker/DEMO-xgboost-multiclass-classification/validation/examples3\n",
      "Writing to s3://sagemaker-ap-northeast-2-988889742134/sagemaker/DEMO-xgboost-multiclass-classification/validation/examples4\n",
      "Done writing to s3://sagemaker-ap-northeast-2-988889742134/sagemaker/DEMO-xgboost-multiclass-classification/validation/examples4\n",
      "test: (10000, 784) (10000,)\n",
      "Writing to s3://sagemaker-ap-northeast-2-988889742134/sagemaker/DEMO-xgboost-multiclass-classification/test/examples0\n",
      "Done writing to s3://sagemaker-ap-northeast-2-988889742134/sagemaker/DEMO-xgboost-multiclass-classification/test/examples0\n",
      "Writing to s3://sagemaker-ap-northeast-2-988889742134/sagemaker/DEMO-xgboost-multiclass-classification/test/examples1\n",
      "Done writing to s3://sagemaker-ap-northeast-2-988889742134/sagemaker/DEMO-xgboost-multiclass-classification/test/examples1\n",
      "Writing to s3://sagemaker-ap-northeast-2-988889742134/sagemaker/DEMO-xgboost-multiclass-classification/test/examples2\n",
      "Done writing to s3://sagemaker-ap-northeast-2-988889742134/sagemaker/DEMO-xgboost-multiclass-classification/test/examples2\n",
      "Writing to s3://sagemaker-ap-northeast-2-988889742134/sagemaker/DEMO-xgboost-multiclass-classification/test/examples3\n",
      "Done writing to s3://sagemaker-ap-northeast-2-988889742134/sagemaker/DEMO-xgboost-multiclass-classification/test/examples3\n",
      "Writing to s3://sagemaker-ap-northeast-2-988889742134/sagemaker/DEMO-xgboost-multiclass-classification/test/examples4\n",
      "Done writing to s3://sagemaker-ap-northeast-2-988889742134/sagemaker/DEMO-xgboost-multiclass-classification/test/examples4\n",
      "CPU times: user 36.5 s, sys: 4.22 s, total: 40.7 s\n",
      "Wall time: 46.7 s\n"
     ]
    }
   ],
   "source": [
    "%%time\n",
    "\n",
    "convert_data()"
   ]
  },
  {
   "cell_type": "markdown",
   "metadata": {},
   "source": [
    "## Training the XGBoost model\n",
    "\n",
    "Now that we have our data in S3, we can begin training. We'll use Amazon SageMaker XGboost algorithm, and will actually fit two models in order to demonstrate the single machine and distributed training on SageMaker. In the first job, we'll use a single machine to train. In the second job, we'll use two machines and use the ShardedByS3Key mode for the train channel. Since we have 5 part file, one machine will train on three and the other on two part files. Note that the number of instances should not exceed the number of part files. \n",
    "\n",
    "First let's setup a list of training parameters which are common across the two jobs."
   ]
  },
  {
   "cell_type": "code",
   "execution_count": 11,
   "metadata": {},
   "outputs": [
    {
     "name": "stdout",
     "output_type": "stream",
     "text": [
      "Container:  366743142698.dkr.ecr.ap-northeast-2.amazonaws.com/sagemaker-xgboost:1.0-1-cpu-py3\n"
     ]
    }
   ],
   "source": [
    "from sagemaker.image_uris import retrieve\n",
    "\n",
    "\n",
    "container = retrieve(\n",
    "    framework=\"xgboost\",\n",
    "    region=region_nm,\n",
    "    version=\"1.0-1\"\n",
    ")\n",
    "\n",
    "print(\"Container: \", container)"
   ]
  },
  {
   "cell_type": "code",
   "execution_count": 12,
   "metadata": {},
   "outputs": [],
   "source": [
    "common_training_params = {\n",
    "    \"AlgorithmSpecification\": {\n",
    "        \"TrainingImage\": container, \n",
    "        \"TrainingInputMode\": \"File\"\n",
    "    },\n",
    "    \"RoleArn\": role,\n",
    "    \"OutputDataConfig\": {\n",
    "        \"S3OutputPath\": f\"{bucket_path}/{bucket_prefix}/xgboost\"\n",
    "    },\n",
    "    \"ResourceConfig\": {\n",
    "        \"InstanceCount\": 1, \n",
    "        \"InstanceType\": \"ml.m4.10xlarge\", \n",
    "        \"VolumeSizeInGB\": 5\n",
    "    },\n",
    "    \"HyperParameters\": {\n",
    "        \"max_depth\": \"5\",\n",
    "        \"eta\": \"0.2\",\n",
    "        \"gamma\": \"4\",\n",
    "        \"min_child_weight\": \"6\",\n",
    "        \"silent\": \"0\",\n",
    "        \"objective\": \"multi:softmax\",\n",
    "        \"num_class\": \"10\",\n",
    "        \"num_round\": \"10\",\n",
    "    },\n",
    "    \"StoppingCondition\": {\n",
    "        \"MaxRuntimeInSeconds\": 86400\n",
    "    },\n",
    "    \"InputDataConfig\": [\n",
    "        {\n",
    "            \"ChannelName\": \"train\",\n",
    "            \"DataSource\": {\n",
    "                \"S3DataSource\": {\n",
    "                    \"S3DataType\": \"S3Prefix\",\n",
    "                    \"S3Uri\": f\"{bucket_path}/{bucket_prefix}/train/\",\n",
    "                    \"S3DataDistributionType\": \"FullyReplicated\",\n",
    "                }\n",
    "            },\n",
    "            \"ContentType\": \"libsvm\",\n",
    "            \"CompressionType\": \"None\",\n",
    "        },\n",
    "        {\n",
    "            \"ChannelName\": \"validation\",\n",
    "            \"DataSource\": {\n",
    "                \"S3DataSource\": {\n",
    "                    \"S3DataType\": \"S3Prefix\",\n",
    "                    \"S3Uri\": f\"{bucket_path}/{bucket_prefix}/validation/\",\n",
    "                    \"S3DataDistributionType\": \"FullyReplicated\",\n",
    "                }\n",
    "            },\n",
    "            \"ContentType\": \"libsvm\",\n",
    "            \"CompressionType\": \"None\",\n",
    "        },\n",
    "    ],\n",
    "}"
   ]
  },
  {
   "cell_type": "markdown",
   "metadata": {},
   "source": [
    "Now we'll create two separate jobs, updating the parameters that are unique to each.\n",
    "\n",
    "### Training on a single instance"
   ]
  },
  {
   "cell_type": "code",
   "execution_count": 13,
   "metadata": {},
   "outputs": [
    {
     "name": "stdout",
     "output_type": "stream",
     "text": [
      "Job name is:  DEMO-xgboost-classification2022-04-04-00-10-53\n"
     ]
    }
   ],
   "source": [
    "# single machine job params\n",
    "single_machine_job_name = f'DEMO-xgboost-classification{strftime(\"%Y-%m-%d-%H-%M-%S\", gmtime())}'\n",
    "print(\"Job name is: \", single_machine_job_name)\n",
    "\n",
    "single_machine_job_params = copy.deepcopy(common_training_params)\n",
    "single_machine_job_params['TrainingJobName'] = single_machine_job_name\n",
    "single_machine_job_params['OutputDataConfig']['S3OutputPath'] = f\"{bucket_path}/{bucket_prefix}/xgboost-single\"\n",
    "single_machine_job_params['ResourceConfig']['InstanceCount'] = 1"
   ]
  },
  {
   "cell_type": "markdown",
   "metadata": {},
   "source": [
    "### Training on multiple instances\n",
    "\n",
    "You can also run the training job distributed over multiple instances. For larger datasets with multiple partitions, this can significantly boost the training speed. Here we'll still use the small/toy MNIST dataset to demo this feature."
   ]
  },
  {
   "cell_type": "code",
   "execution_count": 25,
   "metadata": {},
   "outputs": [
    {
     "name": "stdout",
     "output_type": "stream",
     "text": [
      "Job name is:  DEMO-xgboost-distrib-classification2022-04-04-00-22-24\n"
     ]
    }
   ],
   "source": [
    "# distributed job params\n",
    "distributed_job_name = (\n",
    "    f'DEMO-xgboost-distrib-classification{strftime(\"%Y-%m-%d-%H-%M-%S\", gmtime())}'\n",
    ")\n",
    "print(\"Job name is: \", distributed_job_name)\n",
    "\n",
    "distributed_job_params = copy.deepcopy(common_training_params)\n",
    "distributed_job_params[\"TrainingJobName\"] = distributed_job_name\n",
    "distributed_job_params[\"OutputDataConfig\"][\"S3OutputPath\"] = f\"{bucket_path}/{bucket_prefix}/xgboost-distributed\"\n",
    "\n",
    "# number of instances used for training\n",
    "distributed_job_params[\"ResourceConfig\"][\"InstanceCount\"] = 2\n",
    "\n",
    "# data distribution type for train channel\n",
    "distributed_job_params[\"InputDataConfig\"][0][\"DataSource\"][\"S3DataSource\"][\n",
    "    \"S3DataDistributionType\"\n",
    "] = \"ShardedByS3Key\"\n",
    "\n",
    "# data distribution type for validation channel\n",
    "distributed_job_params[\"InputDataConfig\"][1][\"DataSource\"][\"S3DataSource\"][\n",
    "    \"S3DataDistributionType\"\n",
    "] = \"ShardedByS3Key\""
   ]
  },
  {
   "cell_type": "markdown",
   "metadata": {},
   "source": [
    "Let's submit these jobs, taking note that the first will be submitted to run in the background so that we can immediately run the second in parallel."
   ]
  },
  {
   "cell_type": "code",
   "execution_count": 15,
   "metadata": {},
   "outputs": [
    {
     "name": "stdout",
     "output_type": "stream",
     "text": [
      "CPU times: user 59.3 ms, sys: 6.69 ms, total: 65.9 ms\n",
      "Wall time: 278 ms\n"
     ]
    },
    {
     "data": {
      "text/plain": [
       "{'TrainingJobArn': 'arn:aws:sagemaker:ap-northeast-2:988889742134:training-job/demo-xgboost-classification2022-04-04-00-10-53',\n",
       " 'ResponseMetadata': {'RequestId': '17eef873-d496-42b8-a567-0b292fa22929',\n",
       "  'HTTPStatusCode': 200,\n",
       "  'HTTPHeaders': {'x-amzn-requestid': '17eef873-d496-42b8-a567-0b292fa22929',\n",
       "   'content-type': 'application/x-amz-json-1.1',\n",
       "   'content-length': '126',\n",
       "   'date': 'Mon, 04 Apr 2022 00:11:04 GMT'},\n",
       "  'RetryAttempts': 0}}"
      ]
     },
     "execution_count": 15,
     "metadata": {},
     "output_type": "execute_result"
    }
   ],
   "source": [
    "%%time\n",
    "\n",
    "sagemaker_client = boto3.Session(\n",
    "    region_name=region_nm\n",
    ").client(\"sagemaker\")\n",
    "\n",
    "# Single machine job start\n",
    "sagemaker_client.create_training_job(**single_machine_job_params)"
   ]
  },
  {
   "cell_type": "code",
   "execution_count": 16,
   "metadata": {},
   "outputs": [
    {
     "data": {
      "text/plain": [
       "'InProgress'"
      ]
     },
     "execution_count": 16,
     "metadata": {},
     "output_type": "execute_result"
    }
   ],
   "source": [
    "sagemaker_client.describe_training_job(\n",
    "        TrainingJobName=single_machine_job_name\n",
    "    )['TrainingJobStatus']"
   ]
  },
  {
   "cell_type": "code",
   "execution_count": 19,
   "metadata": {},
   "outputs": [
    {
     "name": "stdout",
     "output_type": "stream",
     "text": [
      ".Single machine job Training Done!\n"
     ]
    }
   ],
   "source": [
    "from IPython.display import JSON\n",
    "\n",
    "\n",
    "chk_status = True\n",
    "start_time = time.time()\n",
    "\n",
    "while chk_status:\n",
    "    time.sleep(5)\n",
    "    print('.', end='')\n",
    "    \n",
    "    single_machine_job_status=sagemaker_client.describe_training_job(\n",
    "        TrainingJobName=single_machine_job_name\n",
    "    )['TrainingJobStatus']\n",
    "    \n",
    "    if single_machine_job_status != 'InProgress':\n",
    "        chk_status = False\n",
    "    \n",
    "print('Single machine job Training Done!')"
   ]
  },
  {
   "cell_type": "code",
   "execution_count": 26,
   "metadata": {},
   "outputs": [
    {
     "name": "stdout",
     "output_type": "stream",
     "text": [
      "Distributed Machine Job Status:  InProgress\n"
     ]
    }
   ],
   "source": [
    "# Distributed machine job start\n",
    "sagemaker_client.create_training_job(**distributed_job_params)\n",
    "\n",
    "distributed_machine_job_status = sagemaker_client.describe_training_job(\n",
    "    TrainingJobName=distributed_job_name\n",
    ")[\"TrainingJobStatus\"]\n",
    "\n",
    "print(\"Distributed Machine Job Status: \", distributed_machine_job_status)"
   ]
  },
  {
   "cell_type": "code",
   "execution_count": 28,
   "metadata": {},
   "outputs": [
    {
     "name": "stdout",
     "output_type": "stream",
     "text": [
      "........................Distributed machine job Training Done!\n"
     ]
    }
   ],
   "source": [
    "chk_status = True\n",
    "start_time = time.time()\n",
    "\n",
    "while chk_status:\n",
    "    time.sleep(5)\n",
    "    print('.', end='')\n",
    "    \n",
    "    distributed_machine_job_status=sagemaker_client.describe_training_job(\n",
    "        TrainingJobName=distributed_job_name\n",
    "    )['TrainingJobStatus']\n",
    "    \n",
    "    if distributed_machine_job_status != 'InProgress':\n",
    "        chk_status = False\n",
    "    \n",
    "    if distributed_machine_job_status == 'Failed':\n",
    "        chk_status = False\n",
    "        \n",
    "        message = sagemaker_client.describe_training_job(\n",
    "            TrainingJobName=distributed_job_name\n",
    "        )['FailureReasone']\n",
    "        \n",
    "        print(f\"Training failed with the following error: {message}\")\n",
    "    \n",
    "print('Distributed machine job Training Done!')"
   ]
  },
  {
   "cell_type": "markdown",
   "metadata": {},
   "source": [
    "# Set up hosting for the model\n",
    "In order to set up hosting, we have to import the model from training to hosting. The step below demonstrated hosting the model generated from the distributed training job. Same steps can be followed to host the model obtained from the single machine job. \n",
    "\n",
    "### Import model into hosting\n",
    "Next, you register the model with hosting. This allows you the flexibility of importing models trained elsewhere."
   ]
  },
  {
   "cell_type": "code",
   "execution_count": 32,
   "metadata": {},
   "outputs": [
    {
     "name": "stdout",
     "output_type": "stream",
     "text": [
      "Distributed Model Name:  DEMO-xgboost-distrib-classification2022-04-04-00-22-24-mod\n",
      "Distributed Model Data:  s3://sagemaker-ap-northeast-2-988889742134/sagemaker/DEMO-xgboost-multiclass-classification/xgboost-distributed/DEMO-xgboost-distrib-classification2022-04-04-00-22-24/output/model.tar.gz\n",
      "Create Distributed Model Arn:  arn:aws:sagemaker:ap-northeast-2:988889742134:model/demo-xgboost-distrib-classification2022-04-04-00-22-24-mod\n",
      "CPU times: user 14.4 ms, sys: 3.72 ms, total: 18.1 ms\n",
      "Wall time: 444 ms\n"
     ]
    }
   ],
   "source": [
    "%%time\n",
    "import boto3\n",
    "from time import gmtime, strftime\n",
    "\n",
    "\n",
    "model_name = f\"{distributed_job_name}-mod\"\n",
    "print(\"Distributed Model Name: \", model_name)\n",
    "\n",
    "distributed_model_info = sagemaker_client.describe_training_job(\n",
    "    TrainingJobName=distributed_job_name\n",
    ")\n",
    "\n",
    "# s3 path for distrubuted model artifacts\n",
    "distributed_model_data = distributed_model_info[\"ModelArtifacts\"][\"S3ModelArtifacts\"]\n",
    "print(\"Distributed Model Data: \", distributed_model_data)\n",
    "\n",
    "primary_container = {\n",
    "    \"Image\": container,\n",
    "    \"ModelDataUrl\": distributed_model_data\n",
    "}\n",
    "\n",
    "create_distributed_model_response = sagemaker_client.create_model(\n",
    "    ModelName=model_name,\n",
    "    ExecutionRoleArn=role,\n",
    "    PrimaryContainer=primary_container\n",
    ")\n",
    "\n",
    "print(\"Create Distributed Model Arn: \", create_distributed_model_response[\"ModelArn\"])"
   ]
  },
  {
   "cell_type": "markdown",
   "metadata": {},
   "source": [
    "### Create endpoint configuration\n",
    "SageMaker supports configuring REST endpoints in hosting with multiple models, e.g. for A/B testing purposes. In order to support this, customers create an endpoint configuration, that describes the distribution of traffic across the models, whether split, shadowed, or sampled in some way. In addition, the endpoint configuration describes the instance type required for model deployment.\n",
    "\n",
    "Use this API if you want to use Amazon SageMaker hosting services to **deploy models into production.**\n",
    "\n",
    "In the request, you define a **ProductionVariant** , for each model that you want to deploy. Each ProductionVariant parameter also describes the resources that you want Amazon SageMaker to provision. This includes the number and type of ML compute instances to deploy.\n",
    "\n",
    "If you are hosting multiple models, you also assign a **VariantWeight** to specify how much traffic you want to allocate to each model. For example, suppose that you want to host two models, A and B, and you assign traffic weight 2 for model A and 1 for model B. Amazon SageMaker distributes two-thirds of the traffic to Model A, and one-third to model B."
   ]
  },
  {
   "cell_type": "code",
   "execution_count": 34,
   "metadata": {},
   "outputs": [
    {
     "name": "stdout",
     "output_type": "stream",
     "text": [
      "Endpoint config name:  DEMO-XGBoostEndpointConfig-2022-04-04-00-55-11\n",
      "Endpoint Config Arn: arn:aws:sagemaker:ap-northeast-2:988889742134:endpoint-config/demo-xgboostendpointconfig-2022-04-04-00-55-11\n"
     ]
    }
   ],
   "source": [
    "from time import gmtime, strftime\n",
    "\n",
    "\n",
    "endpoint_config_name = f\"DEMO-XGBoostEndpointConfig-{strftime('%Y-%m-%d-%H-%M-%S', gmtime())}\"\n",
    "print(\"Endpoint config name: \", endpoint_config_name)\n",
    "\n",
    "create_endpoint_config_response = sagemaker_client.create_endpoint_config(\n",
    "    EndpointConfigName=endpoint_config_name,\n",
    "    ProductionVariants=[\n",
    "        {\n",
    "            \"InstanceType\": \"ml.m4.xlarge\",\n",
    "            \"InitialVariantWeight\": 1,\n",
    "            \"InitialInstanceCount\": 1,\n",
    "            \"ModelName\": model_name,\n",
    "            \"VariantName\": \"AllTraffic\"\n",
    "        }\n",
    "    ]\n",
    ")\n",
    "\n",
    "print(f'Endpoint Config Arn: {create_endpoint_config_response[\"EndpointConfigArn\"]}')"
   ]
  },
  {
   "cell_type": "markdown",
   "metadata": {},
   "source": [
    "### Create endpoint\n",
    "Lastly, the customer creates the endpoint that serves up the model, through specifying the name and configuration defined above. The end result is an endpoint that can be validated and incorporated into production applications. This takes 9-11 minutes to complete."
   ]
  },
  {
   "cell_type": "code",
   "execution_count": 36,
   "metadata": {},
   "outputs": [
    {
     "name": "stdout",
     "output_type": "stream",
     "text": [
      "Endpoint name:  DEMO-XGBoostEndpoint-2022-04-04-01-01-01\n",
      "Endpoint Arn: arn:aws:sagemaker:ap-northeast-2:988889742134:endpoint/demo-xgboostendpoint-2022-04-04-01-01-01\n",
      "CPU times: user 19 ms, sys: 309 µs, total: 19.3 ms\n",
      "Wall time: 362 ms\n"
     ]
    }
   ],
   "source": [
    "%%time\n",
    "import time\n",
    "\n",
    "endpoint_name = f'DEMO-XGBoostEndpoint-{strftime(\"%Y-%m-%d-%H-%M-%S\", gmtime())}'\n",
    "print(\"Endpoint name: \", endpoint_name)\n",
    "\n",
    "create_endpoint_response = sagemaker_client.create_endpoint(\n",
    "    EndpointName=endpoint_name,\n",
    "    EndpointConfigName=endpoint_config_name\n",
    ")\n",
    "\n",
    "print(f'Endpoint Arn: {create_endpoint_response[\"EndpointArn\"]}')"
   ]
  },
  {
   "cell_type": "code",
   "execution_count": 37,
   "metadata": {},
   "outputs": [
    {
     "name": "stdout",
     "output_type": "stream",
     "text": [
      ".Done!\n"
     ]
    }
   ],
   "source": [
    "chk_status = True\n",
    "start_time = time.time()\n",
    "\n",
    "\n",
    "while chk_status:\n",
    "    time.sleep(5)\n",
    "    print('.', end='')\n",
    "    \n",
    "    create_endpoint_status = sagemaker_client.describe_endpoint(\n",
    "        EndpointName=endpoint_name\n",
    "    )[\"EndpointStatus\"]\n",
    "    \n",
    "    if create_endpoint_status != 'Creating':\n",
    "        chk_status = False\n",
    "\n",
    "print(\"Done!\")"
   ]
  },
  {
   "cell_type": "markdown",
   "metadata": {},
   "source": [
    "## Validate the model for use\n",
    "Finally, the customer can now validate the model for use. They can obtain the endpoint from the client library using the result from previous operations, and generate classifications from the trained model using that endpoint.\n"
   ]
  },
  {
   "cell_type": "code",
   "execution_count": 38,
   "metadata": {},
   "outputs": [],
   "source": [
    "runtime_client = boto3.client(\"runtime.sagemaker\", region_name=region_nm)"
   ]
  },
  {
   "cell_type": "markdown",
   "metadata": {},
   "source": [
    "In order to evaluate the model, we'll use the test dataset previously generated. Let us first download the data from S3 to the local host."
   ]
  },
  {
   "cell_type": "code",
   "execution_count": 49,
   "metadata": {},
   "outputs": [],
   "source": [
    "import botocore\n",
    "\n",
    "\n",
    "def download_from_s3(partition_name, number):\n",
    "    key = f\"{bucket_prefix}/{partition_name}/examples{number}\"\n",
    "    url = f\"s3://{bucket_nm}/{key}\"\n",
    "    print(f\"Reading from {url}\")\n",
    "    \n",
    "    s3_resource = boto3.resource(\"s3\", region_name=region_nm)\n",
    "    \n",
    "    try:\n",
    "        s3_resource.Bucket(bucket_nm).download_file(key, \"mnist.local.test\")\n",
    "    except botocore.exceptions.ClientError as e:\n",
    "        if e.response[\"Error\"][\"Code\"] == \"404\":\n",
    "            print(f\"The object does not exist at {url}.\")\n",
    "        else:\n",
    "            raise"
   ]
  },
  {
   "cell_type": "code",
   "execution_count": 50,
   "metadata": {},
   "outputs": [
    {
     "name": "stdout",
     "output_type": "stream",
     "text": [
      "Reading from s3://sagemaker-ap-northeast-2-988889742134/sagemaker/DEMO-xgboost-multiclass-classification/test/examples0\n"
     ]
    }
   ],
   "source": [
    "# reading the first part file within test\n",
    "download_from_s3(\"test\", 0)"
   ]
  },
  {
   "cell_type": "markdown",
   "metadata": {},
   "source": [
    "Start with a single prediction. Lets use the first record from the test file."
   ]
  },
  {
   "cell_type": "code",
   "execution_count": 51,
   "metadata": {},
   "outputs": [],
   "source": [
    "!head -1 mnist.local.test > mnist.single.test"
   ]
  },
  {
   "cell_type": "code",
   "execution_count": 52,
   "metadata": {},
   "outputs": [
    {
     "name": "stdout",
     "output_type": "stream",
     "text": [
      "Predicted label is 7.0.\n",
      "CPU times: user 11.1 ms, sys: 3.97 ms, total: 15.1 ms\n",
      "Wall time: 200 ms\n"
     ]
    }
   ],
   "source": [
    "%%time\n",
    "import json\n",
    "\n",
    "# customize to your test file 'mnist.single.test' if use the data above\n",
    "file_name = (\n",
    "    \"mnist.single.test\"\n",
    ")\n",
    "\n",
    "with open(file_name, \"r\") as f:\n",
    "    payload = f.read()\n",
    "\n",
    "response = runtime_client.invoke_endpoint(\n",
    "    EndpointName=endpoint_name,\n",
    "    ContentType=\"text/x-libsvm\",\n",
    "    Body=payload\n",
    ")\n",
    "\n",
    "result = response[\"Body\"].read().decode(\"ascii\")\n",
    "print(f\"Predicted label is {result}.\")"
   ]
  },
  {
   "cell_type": "markdown",
   "metadata": {},
   "source": [
    "OK, a single prediction works.\n",
    "Let's do a whole batch and see how good is the predictions accuracy."
   ]
  },
  {
   "cell_type": "code",
   "execution_count": 53,
   "metadata": {},
   "outputs": [],
   "source": [
    "import sys\n",
    "\n",
    "\n",
    "def do_predict(data, endpoint_name, content_type):\n",
    "    payload = \"\\n\".join(data)\n",
    "    response = runtime_client.invoke_endpoint(\n",
    "        EndpointName=endpoint_name,\n",
    "        ContentType=content_type,\n",
    "        Body=payload\n",
    "    )\n",
    "    result = response[\"Body\"].read().decode(\"ascii\")\n",
    "    preds = [float(num) for num in result.split(\",\")]\n",
    "    return preds\n",
    "\n",
    "def batch_predict(data, batch_size, endpoint_name, content_type):\n",
    "    items = len(data)\n",
    "    arrs = []\n",
    "    for offset in range(0, items, batch_size):\n",
    "        arrs.extend(\n",
    "            do_predict(data[offset : min(offset + batch_size, items)], endpoint_name, content_type)\n",
    "        )\n",
    "        sys.stdout.write(\".\")\n",
    "    return arrs"
   ]
  },
  {
   "cell_type": "markdown",
   "metadata": {},
   "source": [
    "The following function helps us calculate the error rate on the batch dataset. "
   ]
  },
  {
   "cell_type": "code",
   "execution_count": 54,
   "metadata": {},
   "outputs": [
    {
     "name": "stdout",
     "output_type": "stream",
     "text": [
      "....................\n",
      "error rate=0.109500\n",
      "CPU times: user 224 ms, sys: 17.4 ms, total: 242 ms\n",
      "Wall time: 4.63 s\n"
     ]
    }
   ],
   "source": [
    "%%time\n",
    "import json\n",
    "\n",
    "\n",
    "file_name = \"mnist.local.test\"\n",
    "\n",
    "with open(file_name, \"r\") as f:\n",
    "    payload = f.read().strip()\n",
    "\n",
    "labels = [float(line.split(\" \")[0]) for line in payload.split(\"\\n\")]\n",
    "\n",
    "test_data = payload.split(\"\\n\")\n",
    "\n",
    "preds = batch_predict(test_data, 100, endpoint_name, \"text/x-libsvm\")\n",
    "\n",
    "print(\n",
    "    \"\\nerror rate=%f\"\n",
    "    % (sum(1 for i in range(len(preds)) if preds[i] != labels[i]) / float(len(preds)))\n",
    ")"
   ]
  },
  {
   "cell_type": "markdown",
   "metadata": {},
   "source": [
    "Here are a few predictions"
   ]
  },
  {
   "cell_type": "code",
   "execution_count": 55,
   "metadata": {},
   "outputs": [
    {
     "data": {
      "text/plain": [
       "[7.0, 2.0, 1.0, 0.0, 4.0, 1.0, 4.0, 9.0, 5.0, 9.0]"
      ]
     },
     "execution_count": 55,
     "metadata": {},
     "output_type": "execute_result"
    }
   ],
   "source": [
    "preds[0:10]"
   ]
  },
  {
   "cell_type": "code",
   "execution_count": 56,
   "metadata": {},
   "outputs": [
    {
     "data": {
      "text/plain": [
       "[7.0, 2.0, 1.0, 0.0, 4.0, 1.0, 4.0, 9.0, 5.0, 9.0]"
      ]
     },
     "execution_count": 56,
     "metadata": {},
     "output_type": "execute_result"
    }
   ],
   "source": [
    "labels[0:10]"
   ]
  },
  {
   "cell_type": "markdown",
   "metadata": {},
   "source": [
    "The following function helps us create the confusion matrix on the labeled batch test dataset."
   ]
  },
  {
   "cell_type": "code",
   "execution_count": 57,
   "metadata": {},
   "outputs": [],
   "source": [
    "import numpy as np\n",
    "\n",
    "\n",
    "def error_rate(predictions, labels):\n",
    "    \"\"\"Return the error rate and confusions.\"\"\"\n",
    "    correct = np.sum(predictions == labels)\n",
    "    total = predictions.shape[0]\n",
    "    \n",
    "    error = 100.0 - (100 * float(correct) / float(total))\n",
    "    \n",
    "    confusions = np.zeros([10, 10], np.int32)\n",
    "    bundled = zip(predictions, labels)\n",
    "    for predicted, actual in bundled:\n",
    "        confusions[int(predicted), int(actual)] += 1\n",
    "    \n",
    "    return error, confusions"
   ]
  },
  {
   "cell_type": "markdown",
   "metadata": {},
   "source": [
    "The following helps us visualize the erros that the XGBoost classifier is making. "
   ]
  },
  {
   "cell_type": "code",
   "execution_count": 59,
   "metadata": {},
   "outputs": [
    {
     "name": "stdout",
     "output_type": "stream",
     "text": [
      "Test error: 11.0%\n"
     ]
    },
    {
     "data": {
      "image/png": "[encoded data removed]",
      "text/plain": [
       "<Figure size 432x288 with 1 Axes>"
      ]
     },
     "metadata": {
      "needs_background": "light"
     },
     "output_type": "display_data"
    }
   ],
   "source": [
    "import matplotlib.pyplot as plt\n",
    "%matplotlib inline\n",
    "\n",
    "# change it according to num_class in your dataset\n",
    "NUM_LABELS = 10\n",
    "test_error, confusions = error_rate(np.asarray(preds), np.asarray(labels))\n",
    "print(\"Test error: %.1f%%\" % test_error)\n",
    "\n",
    "plt.xlabel(\"Actual\")\n",
    "plt.ylabel(\"Predicted\")\n",
    "plt.grid(False)\n",
    "plt.xticks(np.arange(NUM_LABELS))\n",
    "plt.yticks(np.arange(NUM_LABELS))\n",
    "plt.imshow(confusions, cmap=plt.cm.jet, interpolation=\"nearest\")\n",
    "\n",
    "for i , cas in enumerate(confusions):\n",
    "    for j, count in enumerate(cas):\n",
    "        if count > 0:\n",
    "            xoff = 0.07 * len(str(count))\n",
    "            plt.text(j - xoff, i + 0.2, int(count), fontsize=9, color=\"white\")"
   ]
  },
  {
   "cell_type": "markdown",
   "metadata": {},
   "source": [
    "### Delete Endpoint\n",
    "Once you are done using the endpoint, you can use the following to delete it. "
   ]
  },
  {
   "cell_type": "code",
   "execution_count": 60,
   "metadata": {},
   "outputs": [
    {
     "data": {
      "text/plain": [
       "{'ResponseMetadata': {'RequestId': '89d062b3-e2c3-42a4-a3e1-a99aa36c0daa',\n",
       "  'HTTPStatusCode': 200,\n",
       "  'HTTPHeaders': {'x-amzn-requestid': '89d062b3-e2c3-42a4-a3e1-a99aa36c0daa',\n",
       "   'content-type': 'application/x-amz-json-1.1',\n",
       "   'content-length': '0',\n",
       "   'date': 'Mon, 04 Apr 2022 01:55:00 GMT'},\n",
       "  'RetryAttempts': 0}}"
      ]
     },
     "execution_count": 60,
     "metadata": {},
     "output_type": "execute_result"
    }
   ],
   "source": [
    "sagemaker_client.delete_endpoint(EndpointName=endpoint_name)"
   ]
  },
  {
   "cell_type": "code",
   "execution_count": null,
   "metadata": {},
   "outputs": [],
   "source": []
  }
 ],
 "metadata": {
  "kernelspec": {
   "display_name": "Python 3 (Data Science)",
   "language": "python",
   "name": "python3__SAGEMAKER_INTERNAL__arn:aws:sagemaker:ap-northeast-2:806072073708:image/datascience-1.0"
  },
  "language_info": {
   "codemirror_mode": {
    "name": "ipython",
    "version": 3
   },
   "file_extension": ".py",
   "mimetype": "text/x-python",
   "name": "python",
   "nbconvert_exporter": "python",
   "pygments_lexer": "ipython3",
   "version": "3.7.10"
  }
 },
 "nbformat": 4,
 "nbformat_minor": 4
}
